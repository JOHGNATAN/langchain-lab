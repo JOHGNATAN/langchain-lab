{
 "cells": [
  {
   "cell_type": "code",
   "execution_count": 25,
   "id": "559cd7f6",
   "metadata": {},
   "outputs": [],
   "source": [
    "from langchain_openai import OpenAI\n",
    "from langchain_openai import ChatOpenAI\n",
    "import json\n",
    "import os\n",
    "\n",
    "with open('secrets/secrets.json', 'r') as file:\n",
    "    secrets = json.load(file)\n",
    "\n",
    "os.environ[\"OPENAI_API_KEY\"] = secrets[\"open_ai_key\"]\n"
   ]
  },
  {
   "cell_type": "code",
   "execution_count": 26,
   "id": "b3fd3d6a",
   "metadata": {},
   "outputs": [],
   "source": [
    "class LlmCompletionClient:\n",
    "    def __init__(self, modelo: str, criatividade: float):\n",
    "        self.client = OpenAI(model = modelo, temperature=criatividade)\n",
    "\n",
    "    def get_completion_answer(self, prompt):\n",
    "        \n",
    "        for chunk in self.client.stream(prompt):\n",
    "            print(chunk, end='', flush=True)\n",
    "\n",
    "\n",
    "\n",
    "class LlmChatClient:\n",
    "    def __init__(self, modelo: str, criatividade: float):\n",
    "        self.client = ChatOpenAI(model = modelo, temperature=criatividade)\n",
    "\n",
    "    def get_chat_answer(self, prompt):\n",
    "        messages = [\n",
    "            (\"system\", \"You are a helpful assistant.\"),\n",
    "            (\"user\", prompt)\n",
    "        ]\n",
    "        \n",
    "        for chunk in self.client.stream(messages):\n",
    "            print(chunk.content, end='', flush=True)\n",
    "        "
   ]
  },
  {
   "cell_type": "code",
   "execution_count": 27,
   "id": "0c3e1733",
   "metadata": {},
   "outputs": [
    {
     "name": "stdout",
     "output_type": "stream",
     "text": [
      " ads\n",
      "\n",
      "O Google Ads é uma plataforma de publicidade online desenvolvida pelo Google, que permite que empresas e anunciantes promovam seus produtos e serviços por meio de anúncios pagos. A plataforma opera principalmente no modelo de pagamento por clique (PPC), onde os anunciantes pagam cada vez que um usuário clica em seu anúncio.\n",
      "\n",
      "Aqui estão alguns pontos importantes sobre o Google Ads:\n",
      "\n",
      "1. **Tipos de Anúncios**: O Google Ads oferece diferentes formatos de anúncios, incluindo anúncios de pesquisa (que aparecem nos resultados de busca do Google), anúncios gráficos (banners que aparecem em sites parceiros), anúncios em vídeo (exibidos no YouTube) e anúncios de shopping (para promover produtos específicos).\n",
      "\n",
      "2. **Segmentação**: Os anunciantes podem segmentar seu público-alvo com base em vários critérios, como localização geográfica, interesses, comportamento online, demografia e palavras-chave. Isso permite que as empresas alcancem usuários que estão mais propensos a se interessar por seus produtos ou serviços.\n",
      "\n",
      "3. **Palavras-chave**: Os anunciantes escolhem palavras-chave relevantes para seus negócios, que são usadas para acionar os anúncios quando os usuários fazem pesquisas relacionadas. A escolha cuidadosa das palavras-chave é fundamental para o sucesso das campanhas.\n",
      "\n",
      "4."
     ]
    }
   ],
   "source": [
    "user_input = input(\"Enter your prompt: \")\n",
    "\n",
    "client = LlmCompletionClient(\"gpt-4o-mini\", 0.3)\n",
    "client.get_completion_answer(user_input)"
   ]
  }
 ],
 "metadata": {
  "kernelspec": {
   "display_name": "venv",
   "language": "python",
   "name": "python3"
  },
  "language_info": {
   "codemirror_mode": {
    "name": "ipython",
    "version": 3
   },
   "file_extension": ".py",
   "mimetype": "text/x-python",
   "name": "python",
   "nbconvert_exporter": "python",
   "pygments_lexer": "ipython3",
   "version": "3.13.5"
  }
 },
 "nbformat": 4,
 "nbformat_minor": 5
}
