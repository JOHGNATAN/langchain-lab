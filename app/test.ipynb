{
 "cells": [
  {
   "cell_type": "code",
   "execution_count": null,
   "id": "559cd7f6",
   "metadata": {},
   "outputs": [],
   "source": [
    "from langchain_openai import OpenAI\n",
    "from langchain_openai import ChatOpenAI\n",
    "import json\n",
    "import os\n",
    "\n",
    "with open('secrets/secrets.json', 'r') as file:\n",
    "    secrets = json.load(file)\n",
    "\n",
    "os.environ[\"OPENAI_API_KEY\"] = secrets[\"open_ai_key\"]\n"
   ]
  },
  {
   "cell_type": "code",
   "execution_count": null,
   "id": "b3fd3d6a",
   "metadata": {},
   "outputs": [],
   "source": [
    "class LlmClient:\n",
    "    def __init__(self, modelo: str, criatividade: float):\n",
    "        self.client = OpenAI(model = modelo, temperature=criatividade)\n",
    "        self.chat_client = ChatOpenAI(model = modelo, temperature=criatividade)\n",
    "\n",
    "    def get_stream_answer(self, prompt):\n",
    "        \n",
    "        for chunk in self.client.stream(prompt):\n",
    "            print(chunk, end='', flush=True)\n",
    "\n",
    "    def get_answer(self, prompt):\n",
    "        response = self.client.invoke(prompt)\n",
    "        print(response)"
   ]
  },
  {
   "cell_type": "code",
   "execution_count": null,
   "id": "0c3e1733",
   "metadata": {},
   "outputs": [
    {
     "name": "stdout",
     "output_type": "stream",
     "text": [
      ", pessoal! Hoje eu vou falar sobre um tema muito importante: a saúde mental. É fundamental cuidarmos da nossa saúde mental assim como cuidamos da nossa saúde física. Muitas vezes, enfrentamos desafios e dificuldades que podem afetar nosso bem-estar emocional. Por isso, é essencial buscar apoio e conversar sobre nossos sentimentos.\n",
      "\n",
      "Uma das maneiras de cuidar da saúde mental é praticar atividades que nos fazem bem, como exercícios físicos, meditação ou hobbies que gostamos. Além disso, é importante ter uma rede de apoio, como amigos e familiares, com quem possamos compartilhar nossas experiências e emoções.\n",
      "\n",
      "Se você estiver passando por um momento difícil, não hesite em procurar ajuda profissional. Psicólogos e psiquiatras estão disponíveis para nos ajudar a lidar com nossos problemas e encontrar formas de superá-los.\n",
      "\n",
      "Lembre-se: cuidar da saúde mental é um ato de amor próprio. Vamos juntos promover o bem-estar emocional e apoiar uns aos outros nessa jornada! Até a próxima!\n",
      "\n",
      "Olá, pessoal! Hoje eu quero falar sobre um tema muito importante: a saúde mental. É fundamental cuidarmos da nossa saúde mental assim como cuidamos da nossa saúde física. Muitas vezes, enfrentamos desafios e dificuldades que podem afetar nosso bem-estar emocional. Por isso, é essencial buscar apoio e"
     ]
    }
   ],
   "source": [
    "user_input = input(\"Enter your prompt: \")\n",
    "\n",
    "client = LlmClient(\"gpt-4o-mini\", 0.3)\n",
    "client.get_stream_answer(user_input)"
   ]
  }
 ],
 "metadata": {
  "kernelspec": {
   "display_name": "venv",
   "language": "python",
   "name": "python3"
  },
  "language_info": {
   "codemirror_mode": {
    "name": "ipython",
    "version": 3
   },
   "file_extension": ".py",
   "mimetype": "text/x-python",
   "name": "python",
   "nbconvert_exporter": "python",
   "pygments_lexer": "ipython3",
   "version": "3.13.5"
  }
 },
 "nbformat": 4,
 "nbformat_minor": 5
}
