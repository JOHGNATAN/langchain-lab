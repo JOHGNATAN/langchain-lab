{
 "cells": [
  {
   "cell_type": "code",
   "execution_count": null,
   "id": "37ec9893",
   "metadata": {},
   "outputs": [
    {
     "name": "stdout",
     "output_type": "stream",
     "text": [
      "ok\n"
     ]
    }
   ],
   "source": [
    "from langchain_openai import openAI\n",
    "\n",
    "llm_model = openAI()\n"
   ]
  },
  {
   "cell_type": "code",
   "execution_count": null,
   "id": "1d0a5fc8",
   "metadata": {},
   "outputs": [],
   "source": [
    "llm_model.invoke(\"\")"
   ]
  }
 ],
 "metadata": {
  "kernelspec": {
   "display_name": "Python 3",
   "language": "python",
   "name": "python3"
  },
  "language_info": {
   "codemirror_mode": {
    "name": "ipython",
    "version": 3
   },
   "file_extension": ".py",
   "mimetype": "text/x-python",
   "name": "python",
   "nbconvert_exporter": "python",
   "pygments_lexer": "ipython3",
   "version": "3.13.5"
  }
 },
 "nbformat": 4,
 "nbformat_minor": 5
}
