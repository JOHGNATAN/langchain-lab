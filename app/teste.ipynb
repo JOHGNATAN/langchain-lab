{
 "cells": [
  {
   "cell_type": "code",
   "execution_count": 3,
   "id": "6dbf1037",
   "metadata": {},
   "outputs": [
    {
     "name": "stdout",
     "output_type": "stream",
     "text": [
      "Hello! How can I assist you today?"
     ]
    }
   ],
   "source": [
    "from langchain_openai import OpenAI\n",
    "from langchain_openai import ChatOpenAI\n",
    "import json\n",
    "import os\n",
    "\n",
    "\n",
    "with open(\"secrets/secrets.json\") as open_file:\n",
    "    secrets = json.load(open_file)\n",
    "\n",
    "os.environ[\"OPENAI_API_KEY\"] = secrets[\"open_ai_key\"]\n",
    "\n",
    "client = ChatOpenAI(model = 'gpt-4o-mini', temperature =0.2)\n",
    "\n",
    "for chunk in client.stream(input(\"Prompt:\")):\n",
    "    print(chunk.content, end='', flush=True)"
   ]
  },
  {
   "cell_type": "code",
   "execution_count": null,
   "id": "b5d69333",
   "metadata": {},
   "outputs": [],
   "source": []
  }
 ],
 "metadata": {
  "kernelspec": {
   "display_name": "venv",
   "language": "python",
   "name": "python3"
  },
  "language_info": {
   "codemirror_mode": {
    "name": "ipython",
    "version": 3
   },
   "file_extension": ".py",
   "mimetype": "text/x-python",
   "name": "python",
   "nbconvert_exporter": "python",
   "pygments_lexer": "ipython3",
   "version": "3.13.5"
  }
 },
 "nbformat": 4,
 "nbformat_minor": 5
}
