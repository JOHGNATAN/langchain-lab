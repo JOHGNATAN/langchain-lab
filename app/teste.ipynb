{
 "cells": [
  {
   "cell_type": "code",
   "execution_count": 6,
   "id": "6dbf1037",
   "metadata": {},
   "outputs": [
    {
     "name": "stdout",
     "output_type": "stream",
     "text": [
      "Hoje é 27 de outubro de 2023."
     ]
    }
   ],
   "source": [
    "from langchain_openai import OpenAI\n",
    "from langchain_openai import ChatOpenAI\n",
    "import json\n",
    "import os\n",
    "\n",
    "\n",
    "with open(\"secrets/secrets.json\") as open_file:\n",
    "    secrets = json.load(open_file)\n",
    "\n",
    "os.environ[\"OPENAI_API_KEY\"] = secrets[\"open_ai_key\"]\n",
    "\n",
    "client = ChatOpenAI(model = 'gpt-4o-mini', temperature =0.2)\n",
    "\n",
    "for chunk in client.stream(input(\"Prompt:\")):\n",
    "    print(chunk.content, end='', flush=True)"
   ]
  },
  {
   "cell_type": "code",
   "execution_count": 10,
   "id": "b5d69333",
   "metadata": {},
   "outputs": [
    {
     "name": "stdout",
     "output_type": "stream",
     "text": [
      "hello\n",
      "teste\n",
      "teste1\n",
      "teste2\n",
      "qual a data de hoje?\n",
      "Hoje é 27 de outubro de 2023.\n",
      "me fale em poucas palavras sobre o spark\n",
      "Apache Spark é uma plataforma de processamento de dados em grande escala, projetada para ser rápida e eficiente. Ela permite o processamento de dados em memória, suportando diversas linguagens como Scala, Java, Python e R. Spark é amplamente utilizado para análise de dados, aprendizado de máquina e processamento de fluxo em tempo real.\n"
     ]
    }
   ],
   "source": [
    "data = ['hello','teste','teste1', 'teste2', 'qual a data de hoje?', 'Hoje é 27 de outubro de 2023.', 'me fale em poucas palavras sobre o spark', 'Apache Spark é uma plataforma de processamento de dados em grande escala, projetada para ser rápida e eficiente. Ela permite o processamento de dados em memória, suportando diversas linguagens como Scala, Java, Python e R. Spark é amplamente utilizado para análise de dados, aprendizado de máquina e processamento de fluxo em tempo real.']\n",
    "\n",
    "for i in range(0, len(data), 2):\n",
    "    print(data[i])\n",
    "    print(data[i+1])\n",
    "\n"
   ]
  },
  {
   "cell_type": "code",
   "execution_count": null,
   "id": "5b49b2cc",
   "metadata": {},
   "outputs": [],
   "source": []
  }
 ],
 "metadata": {
  "kernelspec": {
   "display_name": "venv",
   "language": "python",
   "name": "python3"
  },
  "language_info": {
   "codemirror_mode": {
    "name": "ipython",
    "version": 3
   },
   "file_extension": ".py",
   "mimetype": "text/x-python",
   "name": "python",
   "nbconvert_exporter": "python",
   "pygments_lexer": "ipython3",
   "version": "3.13.5"
  }
 },
 "nbformat": 4,
 "nbformat_minor": 5
}
