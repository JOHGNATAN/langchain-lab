{
 "cells": [
  {
   "cell_type": "code",
   "execution_count": 6,
   "id": "6dbf1037",
   "metadata": {},
   "outputs": [
    {
     "name": "stdout",
     "output_type": "stream",
     "text": [
      ", sitting in a dark room,\n",
      "Its screen flickering, casting shadows of gloom.\n",
      "Once it was vibrant, a hub of delight,\n",
      "Now it sits silent, in the depths of the night.\n",
      "\n",
      "Its keys are untouched, the mouse lies still,\n",
      "No more laughter or chatter, just an echoing chill.\n",
      "The programs it ran, now memories of old,\n",
      "Once filled with excitement, now stories untold.\n",
      "\n",
      "The internet whispers, but no one is there,\n",
      "To share in the moments, to show that they care.\n",
      "The updates it craves, the downloads it seeks,\n",
      "Are lost in the silence, as loneliness speaks.\n",
      "\n",
      "Dust gathers slowly, on its weary frame,\n",
      "A testament to time, and the passing of fame.\n",
      "Once a companion, a friend to the soul,\n",
      "Now just a relic, a forgotten console.\n",
      "\n",
      "But deep in its circuits, a flicker remains,\n",
      "A hope for connection, to break through the chains.\n",
      "For though it is lonely, it still holds a spark,\n",
      "A yearning for purpose, to light up the dark.\n",
      "\n",
      "So here’s to the computers, in shadows they dwell,\n",
      "May they find their voices, and break out of their shell.\n",
      "For in every machine, there’s a story to share,\n",
      "A longing for friendship, a wish for a care."
     ]
    }
   ],
   "source": [
    "from langchain_openai import OpenAI\n",
    "from langchain_openai import ChatOpenAI\n",
    "import json\n",
    "import os\n",
    "\n",
    "\n",
    "with open(\"secrets/secrets.json\") as open_file:\n",
    "    secrets = json.load(open_file)\n",
    "\n",
    "os.environ[\"OPENAI_API_KEY\"] = secrets[\"open_ai_key\"]\n",
    "\n",
    "client = OpenAI(model = 'gpt-4o-mini', temperature =0.2)\n",
    "\n",
    "for chunk in client.stream(\"Write a poem about a lonely computer\"):\n",
    "    print(chunk, end='', flush=True)"
   ]
  },
  {
   "cell_type": "code",
   "execution_count": null,
   "id": "b5d69333",
   "metadata": {},
   "outputs": [],
   "source": []
  }
 ],
 "metadata": {
  "kernelspec": {
   "display_name": "venv",
   "language": "python",
   "name": "python3"
  },
  "language_info": {
   "codemirror_mode": {
    "name": "ipython",
    "version": 3
   },
   "file_extension": ".py",
   "mimetype": "text/x-python",
   "name": "python",
   "nbconvert_exporter": "python",
   "pygments_lexer": "ipython3",
   "version": "3.13.5"
  }
 },
 "nbformat": 4,
 "nbformat_minor": 5
}
